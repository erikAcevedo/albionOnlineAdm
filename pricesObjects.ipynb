{
    "cells": [
        {
            "cell_type": "code",
            "execution_count": null,
            "source": [
                "from main import *\r\n",
                "\r\n",
                "loadDB()"
            ],
            "outputs": [],
            "metadata": {}
        },
        {
            "cell_type": "markdown",
            "source": [
                "Busco el producto"
            ],
            "metadata": {}
        },
        {
            "cell_type": "code",
            "execution_count": null,
            "source": [
                "namesSearch = ['Arenisca', 'Bloque de arenisca']\r\n",
                "objectsSearch = []\r\n",
                "\r\n",
                "for i in namesSearch:\r\n",
                "    if not searchByName(i,objects) == None:\r\n",
                "        objectsSearch.append(searchByName(i,objects).id)\r\n",
                "    else:\r\n",
                "        print(None)\r\n",
                "\r\n",
                "print(objectsSearch)"
            ],
            "outputs": [],
            "metadata": {}
        },
        {
            "cell_type": "markdown",
            "source": [
                "Busco el mercado"
            ],
            "metadata": {}
        },
        {
            "cell_type": "code",
            "execution_count": null,
            "source": [
                "namesSearch = ['Brigewatch Market', 'Lymhurst Market']\r\n",
                "marketsSearch = []\r\n",
                "\r\n",
                "for i in namesSearch:\r\n",
                "    if not searchByName(i,markets) == None:\r\n",
                "        marketsSearch.append(searchByName(i,markets).id)\r\n",
                "    else:\r\n",
                "        print(None)\r\n",
                "\r\n",
                "print(marketsSearch)"
            ],
            "outputs": [],
            "metadata": {}
        },
        {
            "cell_type": "markdown",
            "source": [
                "Solicito los precios de los productos en los mercados"
            ],
            "metadata": {}
        },
        {
            "cell_type": "code",
            "execution_count": null,
            "source": [
                "an.createRevision(objectsSearch,marketsSearch)"
            ],
            "outputs": [],
            "metadata": {}
        },
        {
            "cell_type": "markdown",
            "source": [
                "Valido la info"
            ],
            "metadata": {}
        },
        {
            "cell_type": "code",
            "execution_count": 2,
            "source": [
                "an.loadFrame()"
            ],
            "outputs": [
                {
                    "output_type": "execute_result",
                    "data": {
                        "text/plain": [
                            "    id                name  level  quality  enchantment       cls  \\\n",
                            "0    0             Algodón      2        0            0  Resource   \n",
                            "1   91            Arenisca      3        0            0  Resource   \n",
                            "2  201  Bloque de arenisca      3        0            0  Resource   \n",
                            "3   91            Arenisca      3        0            0  Resource   \n",
                            "4  201  Bloque de arenisca      3        0            0  Resource   \n",
                            "5    0             Algodón      2        0            0  Resource   \n",
                            "6   91            Arenisca      3        0            0  Resource   \n",
                            "7  201  Bloque de arenisca      3        0            0  Resource   \n",
                            "8   91            Arenisca      3        0            0  Resource   \n",
                            "9  201  Bloque de arenisca      3        0            0  Resource   \n",
                            "\n",
                            "           createdDate             market  price  \n",
                            "0  2021-07-18 15:13:18    Caerleon Market   28.0  \n",
                            "1  2021-08-07 10:27:14  Brigewatch Market   58.0  \n",
                            "2  2021-08-07 10:27:23  Brigewatch Market  102.0  \n",
                            "3  2021-08-07 10:28:37    Lymhurst Market   50.0  \n",
                            "4  2021-08-07 10:28:59    Lymhurst Market  111.0  \n",
                            "5  2021-07-18 15:13:18    Caerleon Market   28.0  \n",
                            "6  2021-08-07 10:27:14  Brigewatch Market   58.0  \n",
                            "7  2021-08-07 10:27:23  Brigewatch Market  102.0  \n",
                            "8  2021-08-07 10:28:37    Lymhurst Market   50.0  \n",
                            "9  2021-08-07 10:28:59    Lymhurst Market  111.0  "
                        ],
                        "text/html": [
                            "<div>\n",
                            "<style scoped>\n",
                            "    .dataframe tbody tr th:only-of-type {\n",
                            "        vertical-align: middle;\n",
                            "    }\n",
                            "\n",
                            "    .dataframe tbody tr th {\n",
                            "        vertical-align: top;\n",
                            "    }\n",
                            "\n",
                            "    .dataframe thead th {\n",
                            "        text-align: right;\n",
                            "    }\n",
                            "</style>\n",
                            "<table border=\"1\" class=\"dataframe\">\n",
                            "  <thead>\n",
                            "    <tr style=\"text-align: right;\">\n",
                            "      <th></th>\n",
                            "      <th>id</th>\n",
                            "      <th>name</th>\n",
                            "      <th>level</th>\n",
                            "      <th>quality</th>\n",
                            "      <th>enchantment</th>\n",
                            "      <th>cls</th>\n",
                            "      <th>createdDate</th>\n",
                            "      <th>market</th>\n",
                            "      <th>price</th>\n",
                            "    </tr>\n",
                            "  </thead>\n",
                            "  <tbody>\n",
                            "    <tr>\n",
                            "      <th>0</th>\n",
                            "      <td>0</td>\n",
                            "      <td>Algodón</td>\n",
                            "      <td>2</td>\n",
                            "      <td>0</td>\n",
                            "      <td>0</td>\n",
                            "      <td>Resource</td>\n",
                            "      <td>2021-07-18 15:13:18</td>\n",
                            "      <td>Caerleon Market</td>\n",
                            "      <td>28.0</td>\n",
                            "    </tr>\n",
                            "    <tr>\n",
                            "      <th>1</th>\n",
                            "      <td>91</td>\n",
                            "      <td>Arenisca</td>\n",
                            "      <td>3</td>\n",
                            "      <td>0</td>\n",
                            "      <td>0</td>\n",
                            "      <td>Resource</td>\n",
                            "      <td>2021-08-07 10:27:14</td>\n",
                            "      <td>Brigewatch Market</td>\n",
                            "      <td>58.0</td>\n",
                            "    </tr>\n",
                            "    <tr>\n",
                            "      <th>2</th>\n",
                            "      <td>201</td>\n",
                            "      <td>Bloque de arenisca</td>\n",
                            "      <td>3</td>\n",
                            "      <td>0</td>\n",
                            "      <td>0</td>\n",
                            "      <td>Resource</td>\n",
                            "      <td>2021-08-07 10:27:23</td>\n",
                            "      <td>Brigewatch Market</td>\n",
                            "      <td>102.0</td>\n",
                            "    </tr>\n",
                            "    <tr>\n",
                            "      <th>3</th>\n",
                            "      <td>91</td>\n",
                            "      <td>Arenisca</td>\n",
                            "      <td>3</td>\n",
                            "      <td>0</td>\n",
                            "      <td>0</td>\n",
                            "      <td>Resource</td>\n",
                            "      <td>2021-08-07 10:28:37</td>\n",
                            "      <td>Lymhurst Market</td>\n",
                            "      <td>50.0</td>\n",
                            "    </tr>\n",
                            "    <tr>\n",
                            "      <th>4</th>\n",
                            "      <td>201</td>\n",
                            "      <td>Bloque de arenisca</td>\n",
                            "      <td>3</td>\n",
                            "      <td>0</td>\n",
                            "      <td>0</td>\n",
                            "      <td>Resource</td>\n",
                            "      <td>2021-08-07 10:28:59</td>\n",
                            "      <td>Lymhurst Market</td>\n",
                            "      <td>111.0</td>\n",
                            "    </tr>\n",
                            "    <tr>\n",
                            "      <th>5</th>\n",
                            "      <td>0</td>\n",
                            "      <td>Algodón</td>\n",
                            "      <td>2</td>\n",
                            "      <td>0</td>\n",
                            "      <td>0</td>\n",
                            "      <td>Resource</td>\n",
                            "      <td>2021-07-18 15:13:18</td>\n",
                            "      <td>Caerleon Market</td>\n",
                            "      <td>28.0</td>\n",
                            "    </tr>\n",
                            "    <tr>\n",
                            "      <th>6</th>\n",
                            "      <td>91</td>\n",
                            "      <td>Arenisca</td>\n",
                            "      <td>3</td>\n",
                            "      <td>0</td>\n",
                            "      <td>0</td>\n",
                            "      <td>Resource</td>\n",
                            "      <td>2021-08-07 10:27:14</td>\n",
                            "      <td>Brigewatch Market</td>\n",
                            "      <td>58.0</td>\n",
                            "    </tr>\n",
                            "    <tr>\n",
                            "      <th>7</th>\n",
                            "      <td>201</td>\n",
                            "      <td>Bloque de arenisca</td>\n",
                            "      <td>3</td>\n",
                            "      <td>0</td>\n",
                            "      <td>0</td>\n",
                            "      <td>Resource</td>\n",
                            "      <td>2021-08-07 10:27:23</td>\n",
                            "      <td>Brigewatch Market</td>\n",
                            "      <td>102.0</td>\n",
                            "    </tr>\n",
                            "    <tr>\n",
                            "      <th>8</th>\n",
                            "      <td>91</td>\n",
                            "      <td>Arenisca</td>\n",
                            "      <td>3</td>\n",
                            "      <td>0</td>\n",
                            "      <td>0</td>\n",
                            "      <td>Resource</td>\n",
                            "      <td>2021-08-07 10:28:37</td>\n",
                            "      <td>Lymhurst Market</td>\n",
                            "      <td>50.0</td>\n",
                            "    </tr>\n",
                            "    <tr>\n",
                            "      <th>9</th>\n",
                            "      <td>201</td>\n",
                            "      <td>Bloque de arenisca</td>\n",
                            "      <td>3</td>\n",
                            "      <td>0</td>\n",
                            "      <td>0</td>\n",
                            "      <td>Resource</td>\n",
                            "      <td>2021-08-07 10:28:59</td>\n",
                            "      <td>Lymhurst Market</td>\n",
                            "      <td>111.0</td>\n",
                            "    </tr>\n",
                            "  </tbody>\n",
                            "</table>\n",
                            "</div>"
                        ]
                    },
                    "metadata": {},
                    "execution_count": 2
                }
            ],
            "metadata": {}
        },
        {
            "cell_type": "code",
            "execution_count": 3,
            "source": [
                "import matplotlib.pyplot as plt\r\n",
                "\r\n",
                "\r\n",
                "agrupacion = an.dataF.groupby(['name','market'])['price'].sum()\r\n",
                "agrupacion.plot.bar(x=['name','market'],y='price', rot = 1)\r\n",
                "\r\n",
                "plt.show()"
            ],
            "outputs": [
                {
                    "output_type": "display_data",
                    "data": {
                        "text/plain": [
                            "<Figure size 432x288 with 1 Axes>"
                        ],
                        "image/svg+xml": "<?xml version=\"1.0\" encoding=\"utf-8\" standalone=\"no\"?>\r\n<!DOCTYPE svg PUBLIC \"-//W3C//DTD SVG 1.1//EN\"\r\n  \"http://www.w3.org/Graphics/SVG/1.1/DTD/svg11.dtd\">\r\n<svg height=\"265.747977pt\" version=\"1.1\" viewBox=\"0 0 447.823919 265.747977\" width=\"447.823919pt\" xmlns=\"http://www.w3.org/2000/svg\" xmlns:xlink=\"http://www.w3.org/1999/xlink\">\r\n <metadata>\r\n  <rdf:RDF xmlns:cc=\"http://creativecommons.org/ns#\" xmlns:dc=\"http://purl.org/dc/elements/1.1/\" xmlns:rdf=\"http://www.w3.org/1999/02/22-rdf-syntax-ns#\">\r\n   <cc:Work>\r\n    <dc:type rdf:resource=\"http://purl.org/dc/dcmitype/StillImage\"/>\r\n    <dc:date>2021-11-22T13:55:57.857391</dc:date>\r\n    <dc:format>image/svg+xml</dc:format>\r\n    <dc:creator>\r\n     <cc:Agent>\r\n      <dc:title>Matplotlib v3.4.2, https://matplotlib.org/</dc:title>\r\n     </cc:Agent>\r\n    </dc:creator>\r\n   </cc:Work>\r\n  </rdf:RDF>\r\n </metadata>\r\n <defs>\r\n  <style type=\"text/css\">*{stroke-linecap:butt;stroke-linejoin:round;}</style>\r\n </defs>\r\n <g id=\"figure_1\">\r\n  <g id=\"patch_1\">\r\n   <path d=\"M 0 265.747977 \r\nL 447.823919 265.747977 \r\nL 447.823919 0 \r\nL 0 0 \r\nz\r\n\" style=\"fill:none;\"/>\r\n  </g>\r\n  <g id=\"axes_1\">\r\n   <g id=\"patch_2\">\r\n    <path d=\"M 42.477171 224.64 \r\nL 377.277171 224.64 \r\nL 377.277171 7.2 \r\nL 42.477171 7.2 \r\nz\r\n\" style=\"fill:#ffffff;\"/>\r\n   </g>\r\n   <g id=\"patch_3\">\r\n    <path clip-path=\"url(#p07c784a382)\" d=\"M 59.217171 224.64 \r\nL 92.697171 224.64 \r\nL 92.697171 172.402162 \r\nL 59.217171 172.402162 \r\nz\r\n\" style=\"fill:#1f77b4;\"/>\r\n   </g>\r\n   <g id=\"patch_4\">\r\n    <path clip-path=\"url(#p07c784a382)\" d=\"M 126.177171 224.64 \r\nL 159.657171 224.64 \r\nL 159.657171 116.43305 \r\nL 126.177171 116.43305 \r\nz\r\n\" style=\"fill:#1f77b4;\"/>\r\n   </g>\r\n   <g id=\"patch_5\">\r\n    <path clip-path=\"url(#p07c784a382)\" d=\"M 193.137171 224.64 \r\nL 226.617171 224.64 \r\nL 226.617171 131.358147 \r\nL 193.137171 131.358147 \r\nz\r\n\" style=\"fill:#1f77b4;\"/>\r\n   </g>\r\n   <g id=\"patch_6\">\r\n    <path clip-path=\"url(#p07c784a382)\" d=\"M 260.097171 224.64 \r\nL 293.577171 224.64 \r\nL 293.577171 34.345019 \r\nL 260.097171 34.345019 \r\nz\r\n\" style=\"fill:#1f77b4;\"/>\r\n   </g>\r\n   <g id=\"patch_7\">\r\n    <path clip-path=\"url(#p07c784a382)\" d=\"M 327.057171 224.64 \r\nL 360.537171 224.64 \r\nL 360.537171 17.554286 \r\nL 327.057171 17.554286 \r\nz\r\n\" style=\"fill:#1f77b4;\"/>\r\n   </g>\r\n   <g id=\"matplotlib.axis_1\">\r\n    <g id=\"xtick_1\">\r\n     <g id=\"line2d_1\">\r\n      <defs>\r\n       <path d=\"M 0 0 \r\nL 0 3.5 \r\n\" id=\"m7c284e6021\" style=\"stroke:#000000;stroke-width:0.8;\"/>\r\n      </defs>\r\n      <g>\r\n       <use style=\"stroke:#000000;stroke-width:0.8;\" x=\"75.957171\" xlink:href=\"#m7c284e6021\" y=\"224.64\"/>\r\n      </g>\r\n     </g>\r\n     <g id=\"text_1\">\r\n      <!-- (Algodón, Caerleon Market) -->\r\n      <g transform=\"translate(7.339592 242.034471)rotate(-1)scale(0.1 -0.1)\">\r\n       <defs>\r\n        <path d=\"M 1984 4856 \r\nQ 1566 4138 1362 3434 \r\nQ 1159 2731 1159 2009 \r\nQ 1159 1288 1364 580 \r\nQ 1569 -128 1984 -844 \r\nL 1484 -844 \r\nQ 1016 -109 783 600 \r\nQ 550 1309 550 2009 \r\nQ 550 2706 781 3412 \r\nQ 1013 4119 1484 4856 \r\nL 1984 4856 \r\nz\r\n\" id=\"DejaVuSans-28\" transform=\"scale(0.015625)\"/>\r\n        <path d=\"M 2188 4044 \r\nL 1331 1722 \r\nL 3047 1722 \r\nL 2188 4044 \r\nz\r\nM 1831 4666 \r\nL 2547 4666 \r\nL 4325 0 \r\nL 3669 0 \r\nL 3244 1197 \r\nL 1141 1197 \r\nL 716 0 \r\nL 50 0 \r\nL 1831 4666 \r\nz\r\n\" id=\"DejaVuSans-41\" transform=\"scale(0.015625)\"/>\r\n        <path d=\"M 603 4863 \r\nL 1178 4863 \r\nL 1178 0 \r\nL 603 0 \r\nL 603 4863 \r\nz\r\n\" id=\"DejaVuSans-6c\" transform=\"scale(0.015625)\"/>\r\n        <path d=\"M 2906 1791 \r\nQ 2906 2416 2648 2759 \r\nQ 2391 3103 1925 3103 \r\nQ 1463 3103 1205 2759 \r\nQ 947 2416 947 1791 \r\nQ 947 1169 1205 825 \r\nQ 1463 481 1925 481 \r\nQ 2391 481 2648 825 \r\nQ 2906 1169 2906 1791 \r\nz\r\nM 3481 434 \r\nQ 3481 -459 3084 -895 \r\nQ 2688 -1331 1869 -1331 \r\nQ 1566 -1331 1297 -1286 \r\nQ 1028 -1241 775 -1147 \r\nL 775 -588 \r\nQ 1028 -725 1275 -790 \r\nQ 1522 -856 1778 -856 \r\nQ 2344 -856 2625 -561 \r\nQ 2906 -266 2906 331 \r\nL 2906 616 \r\nQ 2728 306 2450 153 \r\nQ 2172 0 1784 0 \r\nQ 1141 0 747 490 \r\nQ 353 981 353 1791 \r\nQ 353 2603 747 3093 \r\nQ 1141 3584 1784 3584 \r\nQ 2172 3584 2450 3431 \r\nQ 2728 3278 2906 2969 \r\nL 2906 3500 \r\nL 3481 3500 \r\nL 3481 434 \r\nz\r\n\" id=\"DejaVuSans-67\" transform=\"scale(0.015625)\"/>\r\n        <path d=\"M 1959 3097 \r\nQ 1497 3097 1228 2736 \r\nQ 959 2375 959 1747 \r\nQ 959 1119 1226 758 \r\nQ 1494 397 1959 397 \r\nQ 2419 397 2687 759 \r\nQ 2956 1122 2956 1747 \r\nQ 2956 2369 2687 2733 \r\nQ 2419 3097 1959 3097 \r\nz\r\nM 1959 3584 \r\nQ 2709 3584 3137 3096 \r\nQ 3566 2609 3566 1747 \r\nQ 3566 888 3137 398 \r\nQ 2709 -91 1959 -91 \r\nQ 1206 -91 779 398 \r\nQ 353 888 353 1747 \r\nQ 353 2609 779 3096 \r\nQ 1206 3584 1959 3584 \r\nz\r\n\" id=\"DejaVuSans-6f\" transform=\"scale(0.015625)\"/>\r\n        <path d=\"M 2906 2969 \r\nL 2906 4863 \r\nL 3481 4863 \r\nL 3481 0 \r\nL 2906 0 \r\nL 2906 525 \r\nQ 2725 213 2448 61 \r\nQ 2172 -91 1784 -91 \r\nQ 1150 -91 751 415 \r\nQ 353 922 353 1747 \r\nQ 353 2572 751 3078 \r\nQ 1150 3584 1784 3584 \r\nQ 2172 3584 2448 3432 \r\nQ 2725 3281 2906 2969 \r\nz\r\nM 947 1747 \r\nQ 947 1113 1208 752 \r\nQ 1469 391 1925 391 \r\nQ 2381 391 2643 752 \r\nQ 2906 1113 2906 1747 \r\nQ 2906 2381 2643 2742 \r\nQ 2381 3103 1925 3103 \r\nQ 1469 3103 1208 2742 \r\nQ 947 2381 947 1747 \r\nz\r\n\" id=\"DejaVuSans-64\" transform=\"scale(0.015625)\"/>\r\n        <path d=\"M 1959 3097 \r\nQ 1497 3097 1228 2736 \r\nQ 959 2375 959 1747 \r\nQ 959 1119 1226 758 \r\nQ 1494 397 1959 397 \r\nQ 2419 397 2687 759 \r\nQ 2956 1122 2956 1747 \r\nQ 2956 2369 2687 2733 \r\nQ 2419 3097 1959 3097 \r\nz\r\nM 1959 3584 \r\nQ 2709 3584 3137 3096 \r\nQ 3566 2609 3566 1747 \r\nQ 3566 888 3137 398 \r\nQ 2709 -91 1959 -91 \r\nQ 1206 -91 779 398 \r\nQ 353 888 353 1747 \r\nQ 353 2609 779 3096 \r\nQ 1206 3584 1959 3584 \r\nz\r\nM 2394 5119 \r\nL 3016 5119 \r\nL 1998 3944 \r\nL 1519 3944 \r\nL 2394 5119 \r\nz\r\n\" id=\"DejaVuSans-f3\" transform=\"scale(0.015625)\"/>\r\n        <path d=\"M 3513 2113 \r\nL 3513 0 \r\nL 2938 0 \r\nL 2938 2094 \r\nQ 2938 2591 2744 2837 \r\nQ 2550 3084 2163 3084 \r\nQ 1697 3084 1428 2787 \r\nQ 1159 2491 1159 1978 \r\nL 1159 0 \r\nL 581 0 \r\nL 581 3500 \r\nL 1159 3500 \r\nL 1159 2956 \r\nQ 1366 3272 1645 3428 \r\nQ 1925 3584 2291 3584 \r\nQ 2894 3584 3203 3211 \r\nQ 3513 2838 3513 2113 \r\nz\r\n\" id=\"DejaVuSans-6e\" transform=\"scale(0.015625)\"/>\r\n        <path d=\"M 750 794 \r\nL 1409 794 \r\nL 1409 256 \r\nL 897 -744 \r\nL 494 -744 \r\nL 750 256 \r\nL 750 794 \r\nz\r\n\" id=\"DejaVuSans-2c\" transform=\"scale(0.015625)\"/>\r\n        <path id=\"DejaVuSans-20\" transform=\"scale(0.015625)\"/>\r\n        <path d=\"M 4122 4306 \r\nL 4122 3641 \r\nQ 3803 3938 3442 4084 \r\nQ 3081 4231 2675 4231 \r\nQ 1875 4231 1450 3742 \r\nQ 1025 3253 1025 2328 \r\nQ 1025 1406 1450 917 \r\nQ 1875 428 2675 428 \r\nQ 3081 428 3442 575 \r\nQ 3803 722 4122 1019 \r\nL 4122 359 \r\nQ 3791 134 3420 21 \r\nQ 3050 -91 2638 -91 \r\nQ 1578 -91 968 557 \r\nQ 359 1206 359 2328 \r\nQ 359 3453 968 4101 \r\nQ 1578 4750 2638 4750 \r\nQ 3056 4750 3426 4639 \r\nQ 3797 4528 4122 4306 \r\nz\r\n\" id=\"DejaVuSans-43\" transform=\"scale(0.015625)\"/>\r\n        <path d=\"M 2194 1759 \r\nQ 1497 1759 1228 1600 \r\nQ 959 1441 959 1056 \r\nQ 959 750 1161 570 \r\nQ 1363 391 1709 391 \r\nQ 2188 391 2477 730 \r\nQ 2766 1069 2766 1631 \r\nL 2766 1759 \r\nL 2194 1759 \r\nz\r\nM 3341 1997 \r\nL 3341 0 \r\nL 2766 0 \r\nL 2766 531 \r\nQ 2569 213 2275 61 \r\nQ 1981 -91 1556 -91 \r\nQ 1019 -91 701 211 \r\nQ 384 513 384 1019 \r\nQ 384 1609 779 1909 \r\nQ 1175 2209 1959 2209 \r\nL 2766 2209 \r\nL 2766 2266 \r\nQ 2766 2663 2505 2880 \r\nQ 2244 3097 1772 3097 \r\nQ 1472 3097 1187 3025 \r\nQ 903 2953 641 2809 \r\nL 641 3341 \r\nQ 956 3463 1253 3523 \r\nQ 1550 3584 1831 3584 \r\nQ 2591 3584 2966 3190 \r\nQ 3341 2797 3341 1997 \r\nz\r\n\" id=\"DejaVuSans-61\" transform=\"scale(0.015625)\"/>\r\n        <path d=\"M 3597 1894 \r\nL 3597 1613 \r\nL 953 1613 \r\nQ 991 1019 1311 708 \r\nQ 1631 397 2203 397 \r\nQ 2534 397 2845 478 \r\nQ 3156 559 3463 722 \r\nL 3463 178 \r\nQ 3153 47 2828 -22 \r\nQ 2503 -91 2169 -91 \r\nQ 1331 -91 842 396 \r\nQ 353 884 353 1716 \r\nQ 353 2575 817 3079 \r\nQ 1281 3584 2069 3584 \r\nQ 2775 3584 3186 3129 \r\nQ 3597 2675 3597 1894 \r\nz\r\nM 3022 2063 \r\nQ 3016 2534 2758 2815 \r\nQ 2500 3097 2075 3097 \r\nQ 1594 3097 1305 2825 \r\nQ 1016 2553 972 2059 \r\nL 3022 2063 \r\nz\r\n\" id=\"DejaVuSans-65\" transform=\"scale(0.015625)\"/>\r\n        <path d=\"M 2631 2963 \r\nQ 2534 3019 2420 3045 \r\nQ 2306 3072 2169 3072 \r\nQ 1681 3072 1420 2755 \r\nQ 1159 2438 1159 1844 \r\nL 1159 0 \r\nL 581 0 \r\nL 581 3500 \r\nL 1159 3500 \r\nL 1159 2956 \r\nQ 1341 3275 1631 3429 \r\nQ 1922 3584 2338 3584 \r\nQ 2397 3584 2469 3576 \r\nQ 2541 3569 2628 3553 \r\nL 2631 2963 \r\nz\r\n\" id=\"DejaVuSans-72\" transform=\"scale(0.015625)\"/>\r\n        <path d=\"M 628 4666 \r\nL 1569 4666 \r\nL 2759 1491 \r\nL 3956 4666 \r\nL 4897 4666 \r\nL 4897 0 \r\nL 4281 0 \r\nL 4281 4097 \r\nL 3078 897 \r\nL 2444 897 \r\nL 1241 4097 \r\nL 1241 0 \r\nL 628 0 \r\nL 628 4666 \r\nz\r\n\" id=\"DejaVuSans-4d\" transform=\"scale(0.015625)\"/>\r\n        <path d=\"M 581 4863 \r\nL 1159 4863 \r\nL 1159 1991 \r\nL 2875 3500 \r\nL 3609 3500 \r\nL 1753 1863 \r\nL 3688 0 \r\nL 2938 0 \r\nL 1159 1709 \r\nL 1159 0 \r\nL 581 0 \r\nL 581 4863 \r\nz\r\n\" id=\"DejaVuSans-6b\" transform=\"scale(0.015625)\"/>\r\n        <path d=\"M 1172 4494 \r\nL 1172 3500 \r\nL 2356 3500 \r\nL 2356 3053 \r\nL 1172 3053 \r\nL 1172 1153 \r\nQ 1172 725 1289 603 \r\nQ 1406 481 1766 481 \r\nL 2356 481 \r\nL 2356 0 \r\nL 1766 0 \r\nQ 1100 0 847 248 \r\nQ 594 497 594 1153 \r\nL 594 3053 \r\nL 172 3053 \r\nL 172 3500 \r\nL 594 3500 \r\nL 594 4494 \r\nL 1172 4494 \r\nz\r\n\" id=\"DejaVuSans-74\" transform=\"scale(0.015625)\"/>\r\n        <path d=\"M 513 4856 \r\nL 1013 4856 \r\nQ 1481 4119 1714 3412 \r\nQ 1947 2706 1947 2009 \r\nQ 1947 1309 1714 600 \r\nQ 1481 -109 1013 -844 \r\nL 513 -844 \r\nQ 928 -128 1133 580 \r\nQ 1338 1288 1338 2009 \r\nQ 1338 2731 1133 3434 \r\nQ 928 4138 513 4856 \r\nz\r\n\" id=\"DejaVuSans-29\" transform=\"scale(0.015625)\"/>\r\n       </defs>\r\n       <use xlink:href=\"#DejaVuSans-28\"/>\r\n       <use x=\"39.013672\" xlink:href=\"#DejaVuSans-41\"/>\r\n       <use x=\"107.421875\" xlink:href=\"#DejaVuSans-6c\"/>\r\n       <use x=\"135.205078\" xlink:href=\"#DejaVuSans-67\"/>\r\n       <use x=\"198.681641\" xlink:href=\"#DejaVuSans-6f\"/>\r\n       <use x=\"259.863281\" xlink:href=\"#DejaVuSans-64\"/>\r\n       <use x=\"323.339844\" xlink:href=\"#DejaVuSans-f3\"/>\r\n       <use x=\"384.521484\" xlink:href=\"#DejaVuSans-6e\"/>\r\n       <use x=\"447.900391\" xlink:href=\"#DejaVuSans-2c\"/>\r\n       <use x=\"479.6875\" xlink:href=\"#DejaVuSans-20\"/>\r\n       <use x=\"511.474609\" xlink:href=\"#DejaVuSans-43\"/>\r\n       <use x=\"581.298828\" xlink:href=\"#DejaVuSans-61\"/>\r\n       <use x=\"642.578125\" xlink:href=\"#DejaVuSans-65\"/>\r\n       <use x=\"704.101562\" xlink:href=\"#DejaVuSans-72\"/>\r\n       <use x=\"745.214844\" xlink:href=\"#DejaVuSans-6c\"/>\r\n       <use x=\"772.998047\" xlink:href=\"#DejaVuSans-65\"/>\r\n       <use x=\"834.521484\" xlink:href=\"#DejaVuSans-6f\"/>\r\n       <use x=\"895.703125\" xlink:href=\"#DejaVuSans-6e\"/>\r\n       <use x=\"959.082031\" xlink:href=\"#DejaVuSans-20\"/>\r\n       <use x=\"990.869141\" xlink:href=\"#DejaVuSans-4d\"/>\r\n       <use x=\"1077.148438\" xlink:href=\"#DejaVuSans-61\"/>\r\n       <use x=\"1138.427734\" xlink:href=\"#DejaVuSans-72\"/>\r\n       <use x=\"1179.541016\" xlink:href=\"#DejaVuSans-6b\"/>\r\n       <use x=\"1233.826172\" xlink:href=\"#DejaVuSans-65\"/>\r\n       <use x=\"1295.349609\" xlink:href=\"#DejaVuSans-74\"/>\r\n       <use x=\"1334.558594\" xlink:href=\"#DejaVuSans-29\"/>\r\n      </g>\r\n     </g>\r\n    </g>\r\n    <g id=\"xtick_2\">\r\n     <g id=\"line2d_2\">\r\n      <g>\r\n       <use style=\"stroke:#000000;stroke-width:0.8;\" x=\"142.917171\" xlink:href=\"#m7c284e6021\" y=\"224.64\"/>\r\n      </g>\r\n     </g>\r\n     <g id=\"text_2\">\r\n      <!-- (Arenisca, Brigewatch Market) -->\r\n      <g transform=\"translate(67.551035 241.870003)rotate(-1)scale(0.1 -0.1)\">\r\n       <defs>\r\n        <path d=\"M 603 3500 \r\nL 1178 3500 \r\nL 1178 0 \r\nL 603 0 \r\nL 603 3500 \r\nz\r\nM 603 4863 \r\nL 1178 4863 \r\nL 1178 4134 \r\nL 603 4134 \r\nL 603 4863 \r\nz\r\n\" id=\"DejaVuSans-69\" transform=\"scale(0.015625)\"/>\r\n        <path d=\"M 2834 3397 \r\nL 2834 2853 \r\nQ 2591 2978 2328 3040 \r\nQ 2066 3103 1784 3103 \r\nQ 1356 3103 1142 2972 \r\nQ 928 2841 928 2578 \r\nQ 928 2378 1081 2264 \r\nQ 1234 2150 1697 2047 \r\nL 1894 2003 \r\nQ 2506 1872 2764 1633 \r\nQ 3022 1394 3022 966 \r\nQ 3022 478 2636 193 \r\nQ 2250 -91 1575 -91 \r\nQ 1294 -91 989 -36 \r\nQ 684 19 347 128 \r\nL 347 722 \r\nQ 666 556 975 473 \r\nQ 1284 391 1588 391 \r\nQ 1994 391 2212 530 \r\nQ 2431 669 2431 922 \r\nQ 2431 1156 2273 1281 \r\nQ 2116 1406 1581 1522 \r\nL 1381 1569 \r\nQ 847 1681 609 1914 \r\nQ 372 2147 372 2553 \r\nQ 372 3047 722 3315 \r\nQ 1072 3584 1716 3584 \r\nQ 2034 3584 2315 3537 \r\nQ 2597 3491 2834 3397 \r\nz\r\n\" id=\"DejaVuSans-73\" transform=\"scale(0.015625)\"/>\r\n        <path d=\"M 3122 3366 \r\nL 3122 2828 \r\nQ 2878 2963 2633 3030 \r\nQ 2388 3097 2138 3097 \r\nQ 1578 3097 1268 2742 \r\nQ 959 2388 959 1747 \r\nQ 959 1106 1268 751 \r\nQ 1578 397 2138 397 \r\nQ 2388 397 2633 464 \r\nQ 2878 531 3122 666 \r\nL 3122 134 \r\nQ 2881 22 2623 -34 \r\nQ 2366 -91 2075 -91 \r\nQ 1284 -91 818 406 \r\nQ 353 903 353 1747 \r\nQ 353 2603 823 3093 \r\nQ 1294 3584 2113 3584 \r\nQ 2378 3584 2631 3529 \r\nQ 2884 3475 3122 3366 \r\nz\r\n\" id=\"DejaVuSans-63\" transform=\"scale(0.015625)\"/>\r\n        <path d=\"M 1259 2228 \r\nL 1259 519 \r\nL 2272 519 \r\nQ 2781 519 3026 730 \r\nQ 3272 941 3272 1375 \r\nQ 3272 1813 3026 2020 \r\nQ 2781 2228 2272 2228 \r\nL 1259 2228 \r\nz\r\nM 1259 4147 \r\nL 1259 2741 \r\nL 2194 2741 \r\nQ 2656 2741 2882 2914 \r\nQ 3109 3088 3109 3444 \r\nQ 3109 3797 2882 3972 \r\nQ 2656 4147 2194 4147 \r\nL 1259 4147 \r\nz\r\nM 628 4666 \r\nL 2241 4666 \r\nQ 2963 4666 3353 4366 \r\nQ 3744 4066 3744 3513 \r\nQ 3744 3084 3544 2831 \r\nQ 3344 2578 2956 2516 \r\nQ 3422 2416 3680 2098 \r\nQ 3938 1781 3938 1306 \r\nQ 3938 681 3513 340 \r\nQ 3088 0 2303 0 \r\nL 628 0 \r\nL 628 4666 \r\nz\r\n\" id=\"DejaVuSans-42\" transform=\"scale(0.015625)\"/>\r\n        <path d=\"M 269 3500 \r\nL 844 3500 \r\nL 1563 769 \r\nL 2278 3500 \r\nL 2956 3500 \r\nL 3675 769 \r\nL 4391 3500 \r\nL 4966 3500 \r\nL 4050 0 \r\nL 3372 0 \r\nL 2619 2869 \r\nL 1863 0 \r\nL 1184 0 \r\nL 269 3500 \r\nz\r\n\" id=\"DejaVuSans-77\" transform=\"scale(0.015625)\"/>\r\n        <path d=\"M 3513 2113 \r\nL 3513 0 \r\nL 2938 0 \r\nL 2938 2094 \r\nQ 2938 2591 2744 2837 \r\nQ 2550 3084 2163 3084 \r\nQ 1697 3084 1428 2787 \r\nQ 1159 2491 1159 1978 \r\nL 1159 0 \r\nL 581 0 \r\nL 581 4863 \r\nL 1159 4863 \r\nL 1159 2956 \r\nQ 1366 3272 1645 3428 \r\nQ 1925 3584 2291 3584 \r\nQ 2894 3584 3203 3211 \r\nQ 3513 2838 3513 2113 \r\nz\r\n\" id=\"DejaVuSans-68\" transform=\"scale(0.015625)\"/>\r\n       </defs>\r\n       <use xlink:href=\"#DejaVuSans-28\"/>\r\n       <use x=\"39.013672\" xlink:href=\"#DejaVuSans-41\"/>\r\n       <use x=\"107.421875\" xlink:href=\"#DejaVuSans-72\"/>\r\n       <use x=\"146.285156\" xlink:href=\"#DejaVuSans-65\"/>\r\n       <use x=\"207.808594\" xlink:href=\"#DejaVuSans-6e\"/>\r\n       <use x=\"271.1875\" xlink:href=\"#DejaVuSans-69\"/>\r\n       <use x=\"298.970703\" xlink:href=\"#DejaVuSans-73\"/>\r\n       <use x=\"351.070312\" xlink:href=\"#DejaVuSans-63\"/>\r\n       <use x=\"406.050781\" xlink:href=\"#DejaVuSans-61\"/>\r\n       <use x=\"467.330078\" xlink:href=\"#DejaVuSans-2c\"/>\r\n       <use x=\"499.117188\" xlink:href=\"#DejaVuSans-20\"/>\r\n       <use x=\"530.904297\" xlink:href=\"#DejaVuSans-42\"/>\r\n       <use x=\"599.507812\" xlink:href=\"#DejaVuSans-72\"/>\r\n       <use x=\"640.621094\" xlink:href=\"#DejaVuSans-69\"/>\r\n       <use x=\"668.404297\" xlink:href=\"#DejaVuSans-67\"/>\r\n       <use x=\"731.880859\" xlink:href=\"#DejaVuSans-65\"/>\r\n       <use x=\"793.404297\" xlink:href=\"#DejaVuSans-77\"/>\r\n       <use x=\"875.191406\" xlink:href=\"#DejaVuSans-61\"/>\r\n       <use x=\"936.470703\" xlink:href=\"#DejaVuSans-74\"/>\r\n       <use x=\"975.679688\" xlink:href=\"#DejaVuSans-63\"/>\r\n       <use x=\"1030.660156\" xlink:href=\"#DejaVuSans-68\"/>\r\n       <use x=\"1094.039062\" xlink:href=\"#DejaVuSans-20\"/>\r\n       <use x=\"1125.826172\" xlink:href=\"#DejaVuSans-4d\"/>\r\n       <use x=\"1212.105469\" xlink:href=\"#DejaVuSans-61\"/>\r\n       <use x=\"1273.384766\" xlink:href=\"#DejaVuSans-72\"/>\r\n       <use x=\"1314.498047\" xlink:href=\"#DejaVuSans-6b\"/>\r\n       <use x=\"1368.783203\" xlink:href=\"#DejaVuSans-65\"/>\r\n       <use x=\"1430.306641\" xlink:href=\"#DejaVuSans-74\"/>\r\n       <use x=\"1469.515625\" xlink:href=\"#DejaVuSans-29\"/>\r\n      </g>\r\n     </g>\r\n    </g>\r\n    <g id=\"xtick_3\">\r\n     <g id=\"line2d_3\">\r\n      <g>\r\n       <use style=\"stroke:#000000;stroke-width:0.8;\" x=\"209.877171\" xlink:href=\"#m7c284e6021\" y=\"224.64\"/>\r\n      </g>\r\n     </g>\r\n     <g id=\"text_3\">\r\n      <!-- (Arenisca, Lymhurst Market) -->\r\n      <g transform=\"translate(139.550111 241.694088)rotate(-1)scale(0.1 -0.1)\">\r\n       <defs>\r\n        <path d=\"M 628 4666 \r\nL 1259 4666 \r\nL 1259 531 \r\nL 3531 531 \r\nL 3531 0 \r\nL 628 0 \r\nL 628 4666 \r\nz\r\n\" id=\"DejaVuSans-4c\" transform=\"scale(0.015625)\"/>\r\n        <path d=\"M 2059 -325 \r\nQ 1816 -950 1584 -1140 \r\nQ 1353 -1331 966 -1331 \r\nL 506 -1331 \r\nL 506 -850 \r\nL 844 -850 \r\nQ 1081 -850 1212 -737 \r\nQ 1344 -625 1503 -206 \r\nL 1606 56 \r\nL 191 3500 \r\nL 800 3500 \r\nL 1894 763 \r\nL 2988 3500 \r\nL 3597 3500 \r\nL 2059 -325 \r\nz\r\n\" id=\"DejaVuSans-79\" transform=\"scale(0.015625)\"/>\r\n        <path d=\"M 3328 2828 \r\nQ 3544 3216 3844 3400 \r\nQ 4144 3584 4550 3584 \r\nQ 5097 3584 5394 3201 \r\nQ 5691 2819 5691 2113 \r\nL 5691 0 \r\nL 5113 0 \r\nL 5113 2094 \r\nQ 5113 2597 4934 2840 \r\nQ 4756 3084 4391 3084 \r\nQ 3944 3084 3684 2787 \r\nQ 3425 2491 3425 1978 \r\nL 3425 0 \r\nL 2847 0 \r\nL 2847 2094 \r\nQ 2847 2600 2669 2842 \r\nQ 2491 3084 2119 3084 \r\nQ 1678 3084 1418 2786 \r\nQ 1159 2488 1159 1978 \r\nL 1159 0 \r\nL 581 0 \r\nL 581 3500 \r\nL 1159 3500 \r\nL 1159 2956 \r\nQ 1356 3278 1631 3431 \r\nQ 1906 3584 2284 3584 \r\nQ 2666 3584 2933 3390 \r\nQ 3200 3197 3328 2828 \r\nz\r\n\" id=\"DejaVuSans-6d\" transform=\"scale(0.015625)\"/>\r\n        <path d=\"M 544 1381 \r\nL 544 3500 \r\nL 1119 3500 \r\nL 1119 1403 \r\nQ 1119 906 1312 657 \r\nQ 1506 409 1894 409 \r\nQ 2359 409 2629 706 \r\nQ 2900 1003 2900 1516 \r\nL 2900 3500 \r\nL 3475 3500 \r\nL 3475 0 \r\nL 2900 0 \r\nL 2900 538 \r\nQ 2691 219 2414 64 \r\nQ 2138 -91 1772 -91 \r\nQ 1169 -91 856 284 \r\nQ 544 659 544 1381 \r\nz\r\nM 1991 3584 \r\nL 1991 3584 \r\nz\r\n\" id=\"DejaVuSans-75\" transform=\"scale(0.015625)\"/>\r\n       </defs>\r\n       <use xlink:href=\"#DejaVuSans-28\"/>\r\n       <use x=\"39.013672\" xlink:href=\"#DejaVuSans-41\"/>\r\n       <use x=\"107.421875\" xlink:href=\"#DejaVuSans-72\"/>\r\n       <use x=\"146.285156\" xlink:href=\"#DejaVuSans-65\"/>\r\n       <use x=\"207.808594\" xlink:href=\"#DejaVuSans-6e\"/>\r\n       <use x=\"271.1875\" xlink:href=\"#DejaVuSans-69\"/>\r\n       <use x=\"298.970703\" xlink:href=\"#DejaVuSans-73\"/>\r\n       <use x=\"351.070312\" xlink:href=\"#DejaVuSans-63\"/>\r\n       <use x=\"406.050781\" xlink:href=\"#DejaVuSans-61\"/>\r\n       <use x=\"467.330078\" xlink:href=\"#DejaVuSans-2c\"/>\r\n       <use x=\"499.117188\" xlink:href=\"#DejaVuSans-20\"/>\r\n       <use x=\"530.904297\" xlink:href=\"#DejaVuSans-4c\"/>\r\n       <use x=\"577.492188\" xlink:href=\"#DejaVuSans-79\"/>\r\n       <use x=\"636.671875\" xlink:href=\"#DejaVuSans-6d\"/>\r\n       <use x=\"734.083984\" xlink:href=\"#DejaVuSans-68\"/>\r\n       <use x=\"797.462891\" xlink:href=\"#DejaVuSans-75\"/>\r\n       <use x=\"860.841797\" xlink:href=\"#DejaVuSans-72\"/>\r\n       <use x=\"901.955078\" xlink:href=\"#DejaVuSans-73\"/>\r\n       <use x=\"954.054688\" xlink:href=\"#DejaVuSans-74\"/>\r\n       <use x=\"993.263672\" xlink:href=\"#DejaVuSans-20\"/>\r\n       <use x=\"1025.050781\" xlink:href=\"#DejaVuSans-4d\"/>\r\n       <use x=\"1111.330078\" xlink:href=\"#DejaVuSans-61\"/>\r\n       <use x=\"1172.609375\" xlink:href=\"#DejaVuSans-72\"/>\r\n       <use x=\"1213.722656\" xlink:href=\"#DejaVuSans-6b\"/>\r\n       <use x=\"1268.007812\" xlink:href=\"#DejaVuSans-65\"/>\r\n       <use x=\"1329.53125\" xlink:href=\"#DejaVuSans-74\"/>\r\n       <use x=\"1368.740234\" xlink:href=\"#DejaVuSans-29\"/>\r\n      </g>\r\n     </g>\r\n    </g>\r\n    <g id=\"xtick_4\">\r\n     <g id=\"line2d_4\">\r\n      <g>\r\n       <use style=\"stroke:#000000;stroke-width:0.8;\" x=\"276.837171\" xlink:href=\"#m7c284e6021\" y=\"224.64\"/>\r\n      </g>\r\n     </g>\r\n     <g id=\"text_4\">\r\n      <!-- (Bloque de arenisca, Brigewatch Market) -->\r\n      <g transform=\"translate(175.103958 242.790481)rotate(-1)scale(0.1 -0.1)\">\r\n       <defs>\r\n        <path d=\"M 947 1747 \r\nQ 947 1113 1208 752 \r\nQ 1469 391 1925 391 \r\nQ 2381 391 2643 752 \r\nQ 2906 1113 2906 1747 \r\nQ 2906 2381 2643 2742 \r\nQ 2381 3103 1925 3103 \r\nQ 1469 3103 1208 2742 \r\nQ 947 2381 947 1747 \r\nz\r\nM 2906 525 \r\nQ 2725 213 2448 61 \r\nQ 2172 -91 1784 -91 \r\nQ 1150 -91 751 415 \r\nQ 353 922 353 1747 \r\nQ 353 2572 751 3078 \r\nQ 1150 3584 1784 3584 \r\nQ 2172 3584 2448 3432 \r\nQ 2725 3281 2906 2969 \r\nL 2906 3500 \r\nL 3481 3500 \r\nL 3481 -1331 \r\nL 2906 -1331 \r\nL 2906 525 \r\nz\r\n\" id=\"DejaVuSans-71\" transform=\"scale(0.015625)\"/>\r\n       </defs>\r\n       <use xlink:href=\"#DejaVuSans-28\"/>\r\n       <use x=\"39.013672\" xlink:href=\"#DejaVuSans-42\"/>\r\n       <use x=\"107.617188\" xlink:href=\"#DejaVuSans-6c\"/>\r\n       <use x=\"135.400391\" xlink:href=\"#DejaVuSans-6f\"/>\r\n       <use x=\"196.582031\" xlink:href=\"#DejaVuSans-71\"/>\r\n       <use x=\"260.058594\" xlink:href=\"#DejaVuSans-75\"/>\r\n       <use x=\"323.4375\" xlink:href=\"#DejaVuSans-65\"/>\r\n       <use x=\"384.960938\" xlink:href=\"#DejaVuSans-20\"/>\r\n       <use x=\"416.748047\" xlink:href=\"#DejaVuSans-64\"/>\r\n       <use x=\"480.224609\" xlink:href=\"#DejaVuSans-65\"/>\r\n       <use x=\"541.748047\" xlink:href=\"#DejaVuSans-20\"/>\r\n       <use x=\"573.535156\" xlink:href=\"#DejaVuSans-61\"/>\r\n       <use x=\"634.814453\" xlink:href=\"#DejaVuSans-72\"/>\r\n       <use x=\"673.677734\" xlink:href=\"#DejaVuSans-65\"/>\r\n       <use x=\"735.201172\" xlink:href=\"#DejaVuSans-6e\"/>\r\n       <use x=\"798.580078\" xlink:href=\"#DejaVuSans-69\"/>\r\n       <use x=\"826.363281\" xlink:href=\"#DejaVuSans-73\"/>\r\n       <use x=\"878.462891\" xlink:href=\"#DejaVuSans-63\"/>\r\n       <use x=\"933.443359\" xlink:href=\"#DejaVuSans-61\"/>\r\n       <use x=\"994.722656\" xlink:href=\"#DejaVuSans-2c\"/>\r\n       <use x=\"1026.509766\" xlink:href=\"#DejaVuSans-20\"/>\r\n       <use x=\"1058.296875\" xlink:href=\"#DejaVuSans-42\"/>\r\n       <use x=\"1126.900391\" xlink:href=\"#DejaVuSans-72\"/>\r\n       <use x=\"1168.013672\" xlink:href=\"#DejaVuSans-69\"/>\r\n       <use x=\"1195.796875\" xlink:href=\"#DejaVuSans-67\"/>\r\n       <use x=\"1259.273438\" xlink:href=\"#DejaVuSans-65\"/>\r\n       <use x=\"1320.796875\" xlink:href=\"#DejaVuSans-77\"/>\r\n       <use x=\"1402.583984\" xlink:href=\"#DejaVuSans-61\"/>\r\n       <use x=\"1463.863281\" xlink:href=\"#DejaVuSans-74\"/>\r\n       <use x=\"1503.072266\" xlink:href=\"#DejaVuSans-63\"/>\r\n       <use x=\"1558.052734\" xlink:href=\"#DejaVuSans-68\"/>\r\n       <use x=\"1621.431641\" xlink:href=\"#DejaVuSans-20\"/>\r\n       <use x=\"1653.21875\" xlink:href=\"#DejaVuSans-4d\"/>\r\n       <use x=\"1739.498047\" xlink:href=\"#DejaVuSans-61\"/>\r\n       <use x=\"1800.777344\" xlink:href=\"#DejaVuSans-72\"/>\r\n       <use x=\"1841.890625\" xlink:href=\"#DejaVuSans-6b\"/>\r\n       <use x=\"1896.175781\" xlink:href=\"#DejaVuSans-65\"/>\r\n       <use x=\"1957.699219\" xlink:href=\"#DejaVuSans-74\"/>\r\n       <use x=\"1996.908203\" xlink:href=\"#DejaVuSans-29\"/>\r\n      </g>\r\n     </g>\r\n    </g>\r\n    <g id=\"xtick_5\">\r\n     <g id=\"line2d_5\">\r\n      <g>\r\n       <use style=\"stroke:#000000;stroke-width:0.8;\" x=\"343.797171\" xlink:href=\"#m7c284e6021\" y=\"224.64\"/>\r\n      </g>\r\n     </g>\r\n     <g id=\"text_5\">\r\n      <!-- (Bloque de arenisca, Lymhurst Market) -->\r\n      <g transform=\"translate(247.103034 242.614566)rotate(-1)scale(0.1 -0.1)\">\r\n       <use xlink:href=\"#DejaVuSans-28\"/>\r\n       <use x=\"39.013672\" xlink:href=\"#DejaVuSans-42\"/>\r\n       <use x=\"107.617188\" xlink:href=\"#DejaVuSans-6c\"/>\r\n       <use x=\"135.400391\" xlink:href=\"#DejaVuSans-6f\"/>\r\n       <use x=\"196.582031\" xlink:href=\"#DejaVuSans-71\"/>\r\n       <use x=\"260.058594\" xlink:href=\"#DejaVuSans-75\"/>\r\n       <use x=\"323.4375\" xlink:href=\"#DejaVuSans-65\"/>\r\n       <use x=\"384.960938\" xlink:href=\"#DejaVuSans-20\"/>\r\n       <use x=\"416.748047\" xlink:href=\"#DejaVuSans-64\"/>\r\n       <use x=\"480.224609\" xlink:href=\"#DejaVuSans-65\"/>\r\n       <use x=\"541.748047\" xlink:href=\"#DejaVuSans-20\"/>\r\n       <use x=\"573.535156\" xlink:href=\"#DejaVuSans-61\"/>\r\n       <use x=\"634.814453\" xlink:href=\"#DejaVuSans-72\"/>\r\n       <use x=\"673.677734\" xlink:href=\"#DejaVuSans-65\"/>\r\n       <use x=\"735.201172\" xlink:href=\"#DejaVuSans-6e\"/>\r\n       <use x=\"798.580078\" xlink:href=\"#DejaVuSans-69\"/>\r\n       <use x=\"826.363281\" xlink:href=\"#DejaVuSans-73\"/>\r\n       <use x=\"878.462891\" xlink:href=\"#DejaVuSans-63\"/>\r\n       <use x=\"933.443359\" xlink:href=\"#DejaVuSans-61\"/>\r\n       <use x=\"994.722656\" xlink:href=\"#DejaVuSans-2c\"/>\r\n       <use x=\"1026.509766\" xlink:href=\"#DejaVuSans-20\"/>\r\n       <use x=\"1058.296875\" xlink:href=\"#DejaVuSans-4c\"/>\r\n       <use x=\"1104.884766\" xlink:href=\"#DejaVuSans-79\"/>\r\n       <use x=\"1164.064453\" xlink:href=\"#DejaVuSans-6d\"/>\r\n       <use x=\"1261.476562\" xlink:href=\"#DejaVuSans-68\"/>\r\n       <use x=\"1324.855469\" xlink:href=\"#DejaVuSans-75\"/>\r\n       <use x=\"1388.234375\" xlink:href=\"#DejaVuSans-72\"/>\r\n       <use x=\"1429.347656\" xlink:href=\"#DejaVuSans-73\"/>\r\n       <use x=\"1481.447266\" xlink:href=\"#DejaVuSans-74\"/>\r\n       <use x=\"1520.65625\" xlink:href=\"#DejaVuSans-20\"/>\r\n       <use x=\"1552.443359\" xlink:href=\"#DejaVuSans-4d\"/>\r\n       <use x=\"1638.722656\" xlink:href=\"#DejaVuSans-61\"/>\r\n       <use x=\"1700.001953\" xlink:href=\"#DejaVuSans-72\"/>\r\n       <use x=\"1741.115234\" xlink:href=\"#DejaVuSans-6b\"/>\r\n       <use x=\"1795.400391\" xlink:href=\"#DejaVuSans-65\"/>\r\n       <use x=\"1856.923828\" xlink:href=\"#DejaVuSans-74\"/>\r\n       <use x=\"1896.132812\" xlink:href=\"#DejaVuSans-29\"/>\r\n      </g>\r\n     </g>\r\n    </g>\r\n    <g id=\"text_6\">\r\n     <!-- name,market -->\r\n     <g transform=\"translate(176.367796 256.468289)scale(0.1 -0.1)\">\r\n      <use xlink:href=\"#DejaVuSans-6e\"/>\r\n      <use x=\"63.378906\" xlink:href=\"#DejaVuSans-61\"/>\r\n      <use x=\"124.658203\" xlink:href=\"#DejaVuSans-6d\"/>\r\n      <use x=\"222.070312\" xlink:href=\"#DejaVuSans-65\"/>\r\n      <use x=\"283.59375\" xlink:href=\"#DejaVuSans-2c\"/>\r\n      <use x=\"315.380859\" xlink:href=\"#DejaVuSans-6d\"/>\r\n      <use x=\"412.792969\" xlink:href=\"#DejaVuSans-61\"/>\r\n      <use x=\"474.072266\" xlink:href=\"#DejaVuSans-72\"/>\r\n      <use x=\"515.185547\" xlink:href=\"#DejaVuSans-6b\"/>\r\n      <use x=\"569.470703\" xlink:href=\"#DejaVuSans-65\"/>\r\n      <use x=\"630.994141\" xlink:href=\"#DejaVuSans-74\"/>\r\n     </g>\r\n    </g>\r\n   </g>\r\n   <g id=\"matplotlib.axis_2\">\r\n    <g id=\"ytick_1\">\r\n     <g id=\"line2d_6\">\r\n      <defs>\r\n       <path d=\"M 0 0 \r\nL -3.5 0 \r\n\" id=\"ma368768255\" style=\"stroke:#000000;stroke-width:0.8;\"/>\r\n      </defs>\r\n      <g>\r\n       <use style=\"stroke:#000000;stroke-width:0.8;\" x=\"42.477171\" xlink:href=\"#ma368768255\" y=\"224.64\"/>\r\n      </g>\r\n     </g>\r\n     <g id=\"text_7\">\r\n      <!-- 0 -->\r\n      <g transform=\"translate(29.114671 228.439219)scale(0.1 -0.1)\">\r\n       <defs>\r\n        <path d=\"M 2034 4250 \r\nQ 1547 4250 1301 3770 \r\nQ 1056 3291 1056 2328 \r\nQ 1056 1369 1301 889 \r\nQ 1547 409 2034 409 \r\nQ 2525 409 2770 889 \r\nQ 3016 1369 3016 2328 \r\nQ 3016 3291 2770 3770 \r\nQ 2525 4250 2034 4250 \r\nz\r\nM 2034 4750 \r\nQ 2819 4750 3233 4129 \r\nQ 3647 3509 3647 2328 \r\nQ 3647 1150 3233 529 \r\nQ 2819 -91 2034 -91 \r\nQ 1250 -91 836 529 \r\nQ 422 1150 422 2328 \r\nQ 422 3509 836 4129 \r\nQ 1250 4750 2034 4750 \r\nz\r\n\" id=\"DejaVuSans-30\" transform=\"scale(0.015625)\"/>\r\n       </defs>\r\n       <use xlink:href=\"#DejaVuSans-30\"/>\r\n      </g>\r\n     </g>\r\n    </g>\r\n    <g id=\"ytick_2\">\r\n     <g id=\"line2d_7\">\r\n      <g>\r\n       <use style=\"stroke:#000000;stroke-width:0.8;\" x=\"42.477171\" xlink:href=\"#ma368768255\" y=\"177.999073\"/>\r\n      </g>\r\n     </g>\r\n     <g id=\"text_8\">\r\n      <!-- 50 -->\r\n      <g transform=\"translate(22.752171 181.798292)scale(0.1 -0.1)\">\r\n       <defs>\r\n        <path d=\"M 691 4666 \r\nL 3169 4666 \r\nL 3169 4134 \r\nL 1269 4134 \r\nL 1269 2991 \r\nQ 1406 3038 1543 3061 \r\nQ 1681 3084 1819 3084 \r\nQ 2600 3084 3056 2656 \r\nQ 3513 2228 3513 1497 \r\nQ 3513 744 3044 326 \r\nQ 2575 -91 1722 -91 \r\nQ 1428 -91 1123 -41 \r\nQ 819 9 494 109 \r\nL 494 744 \r\nQ 775 591 1075 516 \r\nQ 1375 441 1709 441 \r\nQ 2250 441 2565 725 \r\nQ 2881 1009 2881 1497 \r\nQ 2881 1984 2565 2268 \r\nQ 2250 2553 1709 2553 \r\nQ 1456 2553 1204 2497 \r\nQ 953 2441 691 2322 \r\nL 691 4666 \r\nz\r\n\" id=\"DejaVuSans-35\" transform=\"scale(0.015625)\"/>\r\n       </defs>\r\n       <use xlink:href=\"#DejaVuSans-35\"/>\r\n       <use x=\"63.623047\" xlink:href=\"#DejaVuSans-30\"/>\r\n      </g>\r\n     </g>\r\n    </g>\r\n    <g id=\"ytick_3\">\r\n     <g id=\"line2d_8\">\r\n      <g>\r\n       <use style=\"stroke:#000000;stroke-width:0.8;\" x=\"42.477171\" xlink:href=\"#ma368768255\" y=\"131.358147\"/>\r\n      </g>\r\n     </g>\r\n     <g id=\"text_9\">\r\n      <!-- 100 -->\r\n      <g transform=\"translate(16.389671 135.157365)scale(0.1 -0.1)\">\r\n       <defs>\r\n        <path d=\"M 794 531 \r\nL 1825 531 \r\nL 1825 4091 \r\nL 703 3866 \r\nL 703 4441 \r\nL 1819 4666 \r\nL 2450 4666 \r\nL 2450 531 \r\nL 3481 531 \r\nL 3481 0 \r\nL 794 0 \r\nL 794 531 \r\nz\r\n\" id=\"DejaVuSans-31\" transform=\"scale(0.015625)\"/>\r\n       </defs>\r\n       <use xlink:href=\"#DejaVuSans-31\"/>\r\n       <use x=\"63.623047\" xlink:href=\"#DejaVuSans-30\"/>\r\n       <use x=\"127.246094\" xlink:href=\"#DejaVuSans-30\"/>\r\n      </g>\r\n     </g>\r\n    </g>\r\n    <g id=\"ytick_4\">\r\n     <g id=\"line2d_9\">\r\n      <g>\r\n       <use style=\"stroke:#000000;stroke-width:0.8;\" x=\"42.477171\" xlink:href=\"#ma368768255\" y=\"84.71722\"/>\r\n      </g>\r\n     </g>\r\n     <g id=\"text_10\">\r\n      <!-- 150 -->\r\n      <g transform=\"translate(16.389671 88.516439)scale(0.1 -0.1)\">\r\n       <use xlink:href=\"#DejaVuSans-31\"/>\r\n       <use x=\"63.623047\" xlink:href=\"#DejaVuSans-35\"/>\r\n       <use x=\"127.246094\" xlink:href=\"#DejaVuSans-30\"/>\r\n      </g>\r\n     </g>\r\n    </g>\r\n    <g id=\"ytick_5\">\r\n     <g id=\"line2d_10\">\r\n      <g>\r\n       <use style=\"stroke:#000000;stroke-width:0.8;\" x=\"42.477171\" xlink:href=\"#ma368768255\" y=\"38.076293\"/>\r\n      </g>\r\n     </g>\r\n     <g id=\"text_11\">\r\n      <!-- 200 -->\r\n      <g transform=\"translate(16.389671 41.875512)scale(0.1 -0.1)\">\r\n       <defs>\r\n        <path d=\"M 1228 531 \r\nL 3431 531 \r\nL 3431 0 \r\nL 469 0 \r\nL 469 531 \r\nQ 828 903 1448 1529 \r\nQ 2069 2156 2228 2338 \r\nQ 2531 2678 2651 2914 \r\nQ 2772 3150 2772 3378 \r\nQ 2772 3750 2511 3984 \r\nQ 2250 4219 1831 4219 \r\nQ 1534 4219 1204 4116 \r\nQ 875 4013 500 3803 \r\nL 500 4441 \r\nQ 881 4594 1212 4672 \r\nQ 1544 4750 1819 4750 \r\nQ 2544 4750 2975 4387 \r\nQ 3406 4025 3406 3419 \r\nQ 3406 3131 3298 2873 \r\nQ 3191 2616 2906 2266 \r\nQ 2828 2175 2409 1742 \r\nQ 1991 1309 1228 531 \r\nz\r\n\" id=\"DejaVuSans-32\" transform=\"scale(0.015625)\"/>\r\n       </defs>\r\n       <use xlink:href=\"#DejaVuSans-32\"/>\r\n       <use x=\"63.623047\" xlink:href=\"#DejaVuSans-30\"/>\r\n       <use x=\"127.246094\" xlink:href=\"#DejaVuSans-30\"/>\r\n      </g>\r\n     </g>\r\n    </g>\r\n   </g>\r\n   <g id=\"patch_8\">\r\n    <path d=\"M 42.477171 224.64 \r\nL 42.477171 7.2 \r\n\" style=\"fill:none;stroke:#000000;stroke-linecap:square;stroke-linejoin:miter;stroke-width:0.8;\"/>\r\n   </g>\r\n   <g id=\"patch_9\">\r\n    <path d=\"M 377.277171 224.64 \r\nL 377.277171 7.2 \r\n\" style=\"fill:none;stroke:#000000;stroke-linecap:square;stroke-linejoin:miter;stroke-width:0.8;\"/>\r\n   </g>\r\n   <g id=\"patch_10\">\r\n    <path d=\"M 42.477171 224.64 \r\nL 377.277171 224.64 \r\n\" style=\"fill:none;stroke:#000000;stroke-linecap:square;stroke-linejoin:miter;stroke-width:0.8;\"/>\r\n   </g>\r\n   <g id=\"patch_11\">\r\n    <path d=\"M 42.477171 7.2 \r\nL 377.277171 7.2 \r\n\" style=\"fill:none;stroke:#000000;stroke-linecap:square;stroke-linejoin:miter;stroke-width:0.8;\"/>\r\n   </g>\r\n  </g>\r\n </g>\r\n <defs>\r\n  <clipPath id=\"p07c784a382\">\r\n   <rect height=\"217.44\" width=\"334.8\" x=\"42.477171\" y=\"7.2\"/>\r\n  </clipPath>\r\n </defs>\r\n</svg>\r\n",
                        "image/png": "[encoded data removed]"
                    },
                    "metadata": {
                        "needs_background": "light"
                    }
                }
            ],
            "metadata": {}
        },
        {
            "cell_type": "markdown",
            "source": [
                "Guardo la base"
            ],
            "metadata": {}
        },
        {
            "cell_type": "code",
            "execution_count": null,
            "source": [
                "saveDB()"
            ],
            "outputs": [],
            "metadata": {}
        },
        {
            "cell_type": "code",
            "execution_count": 4,
            "source": [
                "for i in objects:\r\n",
                "    if i.object['cls']=='Consumable':\r\n",
                "        print(i.id,i.name)"
            ],
            "outputs": [
                {
                    "output_type": "stream",
                    "name": "stdout",
                    "text": [
                        "324 Poción de curación menor\n",
                        "325 Poción de curación\n",
                        "326 Poción de curación\n",
                        "327 Poción de curación mayor\n",
                        "328 Poción de curación mayor\n",
                        "329 Poción de energía menor\n",
                        "330 Poción de energía\n",
                        "331 Poción de energía\n",
                        "332 Poción de energía mayor\n",
                        "333 Poción de energía mayor\n",
                        "334 Poción de gigantismo menor\n",
                        "335 Poción de gigantismo\n",
                        "336 Poción de gigantismo\n",
                        "337 Poción de gigantismo mayor\n",
                        "338 Poción de gigantismo mayor\n",
                        "339 Poción de resistencia menor\n",
                        "340 Poción de resistencia\n",
                        "341 Poción de resistencia\n",
                        "342 Poción de resistencia mayor\n",
                        "343 Poción de resistencia mayor\n",
                        "344 Poción de pegajosa menor\n",
                        "345 Poción de pegajosa\n",
                        "346 Poción de pegajosa\n",
                        "347 Poción de pegajosa mayor\n",
                        "348 Poción de pegajosa mayor\n",
                        "349 Poción de veneno menor\n",
                        "350 Poción de veneno menor\n",
                        "351 Poción de veneno\n",
                        "352 Poción de veneno\n",
                        "353 Poción de veneno mayor\n",
                        "354 Poción de veneno mayor\n",
                        "355 Poción de invisibilidad\n",
                        "356 Poción de invisibilidad\n"
                    ]
                }
            ],
            "metadata": {}
        }
    ],
    "metadata": {
        "orig_nbformat": 4,
        "language_info": {
            "name": "python",
            "version": "3.9.4",
            "mimetype": "text/x-python",
            "codemirror_mode": {
                "name": "ipython",
                "version": 3
            },
            "pygments_lexer": "ipython3",
            "nbconvert_exporter": "python",
            "file_extension": ".py"
        },
        "kernelspec": {
            "name": "python3",
            "display_name": "Python 3.9.4 64-bit"
        },
        "interpreter": {
            "hash": "7bbcdf5467684bc353e62804ca04eeb890655e1848ed37885f024d24befc7161"
        }
    },
    "nbformat": 4,
    "nbformat_minor": 2
}